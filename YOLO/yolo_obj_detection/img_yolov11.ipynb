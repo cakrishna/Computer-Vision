{
 "cells": [
  {
   "cell_type": "markdown",
   "metadata": {},
   "source": [
    "# How to use YOLOv11 for Object Detection\n",
    "<!-- https://medium.com/@Mert.A/how-to-use-yolov11-for-object-detection-924aa18ac86f -->"
   ]
  },
  {
   "cell_type": "markdown",
   "metadata": {},
   "source": [
    "# 01) How to use YOLOv11 for images\n",
    "\n",
    "Step 1: Installing the necessary libraries\n",
    "- pip install opencv-python ultralytics"
   ]
  },
  {
   "cell_type": "markdown",
   "metadata": {},
   "source": [
    "Step 2: Importing libraries\n",
    "\n",
    "import cv2\n",
    "from ultralytics import YOLO\n"
   ]
  },
  {
   "cell_type": "markdown",
   "metadata": {},
   "source": [
    "Step 3: Choose your model\n",
    "\n",
    "model = YOLO(\"yolo11x.pt\")\n"
   ]
  },
  {
   "cell_type": "markdown",
   "metadata": {},
   "source": [
    "Step 4: Write a function to predict and detect objects in images\n",
    "\n",
    "def predict(chosen_model, img, classes=[], conf=0.5):\n",
    "    if classes:\n",
    "        results = chosen_model.predict(img, classes=classes, conf=conf)\n",
    "    else:\n",
    "        results = chosen_model.predict(img, conf=conf)\n",
    "\n",
    "    return results\n",
    "\n",
    "def predict_and_detect(chosen_model, img, classes=[], conf=0.5, rectangle_thickness=2, text_thickness=1):\n",
    "    results = predict(chosen_model, img, classes, conf=conf)\n",
    "    for result in results:\n",
    "        for box in result.boxes:\n",
    "            cv2.rectangle(img, (int(box.xyxy[0][0]), int(box.xyxy[0][1])),\n",
    "                          (int(box.xyxy[0][2]), int(box.xyxy[0][3])), (255, 0, 0), rectangle_thickness)\n",
    "            cv2.putText(img, f\"{result.names[int(box.cls[0])]}\",\n",
    "                        (int(box.xyxy[0][0]), int(box.xyxy[0][1]) - 10),\n",
    "                        cv2.FONT_HERSHEY_PLAIN, 1, (255, 0, 0), text_thickness)\n",
    "    return img, results\n"
   ]
  },
  {
   "cell_type": "markdown",
   "metadata": {},
   "source": [
    "\n",
    "Step 5: Detecting Objects in Images with YOLOv11\n",
    "\n",
    "# read the image\n",
    "image = cv2.imread(\"YourImagePath\")\n",
    "result_img, _ = predict_and_detect(model, image, classes=[], conf=0.5)\n"
   ]
  },
  {
   "cell_type": "markdown",
   "metadata": {},
   "source": [
    "\n",
    "Step 6: Save and Plot the result Image\n",
    "\n",
    "cv2.imshow(\"Image\", result_img)\n",
    "cv2.imwrite(\"YourSavePath\", result_img)\n",
    "cv2.waitKey(0)"
   ]
  }
 ],
 "metadata": {
  "language_info": {
   "name": "python"
  }
 },
 "nbformat": 4,
 "nbformat_minor": 2
}
